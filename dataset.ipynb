{
 "cells": [
  {
   "cell_type": "code",
   "execution_count": 1,
   "metadata": {},
   "outputs": [],
   "source": [
    "import os\n",
    "import csv"
   ]
  },
  {
   "cell_type": "code",
   "execution_count": 2,
   "metadata": {},
   "outputs": [],
   "source": [
    "folder_path = 'data/train/'\n",
    "csv_path = 'data/train.csv'\n",
    "\n",
    "with open(csv_path, 'w', newline='') as csv_file:\n",
    "    writer = csv.writer(csv_file)\n",
    "    writer.writerow(['video_name', 'tag'])\n",
    "\n",
    "    # Loop through all the image files in the folder\n",
    "    for filename in os.listdir(folder_path):\n",
    "        if filename.endswith('.avi') or filename.endswith('.mp4'):\n",
    "            # Extract the classname from the filename\n",
    "            classname = filename.split()[0]\n",
    "            # Write the image name, breed ID, and classname to the CSV file\n",
    "            writer.writerow([filename,classname])"
   ]
  },
  {
   "cell_type": "code",
   "execution_count": 3,
   "metadata": {},
   "outputs": [],
   "source": [
    "folder_path = 'data/test/'\n",
    "csv_path = 'data/test.csv'\n",
    "\n",
    "with open(csv_path, 'w', newline='') as csv_file:\n",
    "    writer = csv.writer(csv_file)\n",
    "    writer.writerow(['video_name', 'tag'])\n",
    "\n",
    "    # Loop through all the image files in the folder\n",
    "    for filename in os.listdir(folder_path):\n",
    "        if filename.endswith('.avi') or filename.endswith('.mp4'):\n",
    "            # Extract the classname from the filename\n",
    "            classname = filename.split()[0]\n",
    "            # Write the image name, breed ID, and classname to the CSV file\n",
    "            writer.writerow([filename,classname])"
   ]
  }
 ],
 "metadata": {
  "kernelspec": {
   "display_name": "Python 3",
   "language": "python",
   "name": "python3"
  },
  "language_info": {
   "codemirror_mode": {
    "name": "ipython",
    "version": 3
   },
   "file_extension": ".py",
   "mimetype": "text/x-python",
   "name": "python",
   "nbconvert_exporter": "python",
   "pygments_lexer": "ipython3",
   "version": "3.10.7"
  },
  "orig_nbformat": 4
 },
 "nbformat": 4,
 "nbformat_minor": 2
}
